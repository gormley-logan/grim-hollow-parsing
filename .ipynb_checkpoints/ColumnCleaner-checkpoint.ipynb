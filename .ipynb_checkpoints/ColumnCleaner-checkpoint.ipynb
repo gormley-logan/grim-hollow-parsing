{
 "cells": [
  {
   "cell_type": "code",
   "execution_count": 1,
   "id": "b9349441",
   "metadata": {},
   "outputs": [],
   "source": [
    "import fitz\n",
    "import sys\n",
    "\n",
    "doc = fitz.open(\"raw.pdf\")"
   ]
  },
  {
   "cell_type": "code",
   "execution_count": 2,
   "id": "da7974b3",
   "metadata": {},
   "outputs": [],
   "source": [
    "def cleanColumns(doc):\n",
    "    with open(doc, encoding='utf-8') as unformattedFile:\n",
    "        leftColumn = []\n",
    "        rightColumn = []\n",
    "        for line in unformattedFile:\n",
    "            columns = line.split('            ', 1) #trying to split off of the column gaps in the text file\n",
    "            leftColumn.append(columns[0].strip())\n",
    "            rightColumn.append(columns[1].strip())"
   ]
  },
  {
   "cell_type": "code",
   "execution_count": null,
   "id": "589bef5f",
   "metadata": {},
   "outputs": [],
   "source": []
  }
 ],
 "metadata": {
  "kernelspec": {
   "display_name": "Python 3 (ipykernel)",
   "language": "python",
   "name": "python3"
  },
  "language_info": {
   "codemirror_mode": {
    "name": "ipython",
    "version": 3
   },
   "file_extension": ".py",
   "mimetype": "text/x-python",
   "name": "python",
   "nbconvert_exporter": "python",
   "pygments_lexer": "ipython3",
   "version": "3.9.12"
  }
 },
 "nbformat": 4,
 "nbformat_minor": 5
}
