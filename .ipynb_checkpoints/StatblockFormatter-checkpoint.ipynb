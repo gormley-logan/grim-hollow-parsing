{
 "cells": [
  {
   "cell_type": "code",
   "execution_count": 17,
   "id": "5ff3c562",
   "metadata": {},
   "outputs": [],
   "source": [
    "import sys\n",
    "\n",
    "notNounList = ['in', 'the', 'of']\n",
    "statList = ['STR', 'DEX', 'CON', 'INT', 'WIS', ]\n",
    "\n",
    "def capitalizeStringList(stringList):\n",
    "    capitalList = []\n",
    "    for string in stringList:\n",
    "        if not string in notNounList:\n",
    "            if not '(' in string:\n",
    "                capitalList.append(string.capitalize())\n",
    "            else:\n",
    "                capitalList.append('(' + string[1:].capitalize())\n",
    "        else:\n",
    "            capitalList.append(string)\n",
    "    return capitalList\n",
    "\n",
    "def dashedString(stringList):\n",
    "    capitalList = []\n",
    "    for string in stringList:\n",
    "        if '-' in string:\n",
    "            dashString = string.split('-')\n",
    "            dashString = capitalizeStringList(dashString)\n",
    "            for i in range(len(dashString)):\n",
    "                if i == 0:\n",
    "                    fixedString = dashString[i]\n",
    "                else:\n",
    "                    fixedString = fixedString + '-' + dashString[i]\n",
    "            capitalList.append(fixedString)\n",
    "        else:\n",
    "            capitalList.append(string)\n",
    "    return capitalList\n",
    "\n",
    "def formatName(name):\n",
    "    flag = False\n",
    "    if '-' in name:\n",
    "        flag = True\n",
    "        \n",
    "    words = name.split()\n",
    "    words = capitalizeStringList(words)\n",
    "        \n",
    "    if flag:\n",
    "        words = dashedString(words)\n",
    "        \n",
    "    for i in range(len(words)):\n",
    "        if i == 0:\n",
    "            fixedName = words[i]\n",
    "        else:\n",
    "            fixedName = fixedName + ' ' + words[i]\n",
    "    #print(fixedName)\n",
    "    return fixedName\n"
   ]
  },
  {
   "cell_type": "code",
   "execution_count": 18,
   "id": "3cfc909c",
   "metadata": {},
   "outputs": [],
   "source": [
    "nameList = []\n",
    "with open('MonsterNameList.txt') as names:\n",
    "    for name in names:\n",
    "        nameList.append(name)"
   ]
  },
  {
   "cell_type": "code",
   "execution_count": 26,
   "id": "32377b5f",
   "metadata": {},
   "outputs": [],
   "source": [
    "# stdout_fileno = sys.stdout\n",
    "# sys.stdout = open('StatBlockBreaks.txt', 'w', encoding='utf-8')\n",
    "out = open('StatBlockBreaks4.txt', 'w', encoding='utf-8')\n",
    "\n",
    "statFlag = False\n",
    "with open('rawMonsterChapter.txt', encoding='utf-8') as unformattedFile:\n",
    "    for line in unformattedFile:\n",
    "        if line.lower() in nameList:\n",
    "            #Cleaning the Monster Name\n",
    "            out.write('===\\n')\n",
    "            out.write(str(formatName(line.lower()))+ '\\n')\n",
    "        elif line.strip() in statList:\n",
    "            #Combining stat abbreviations onto one line\n",
    "            out.write(line.strip() + \" \")\n",
    "            if line.strip() == \"CHA\":\n",
    "                out.write('\\n')\n",
    "                statFlag = True #Mark that the following lines should include stat values\n",
    "        elif statFlag:\n",
    "            #Combining stat values onto one line\n",
    "            if re.search('[a-zA-Z]', line) == None:\n",
    "                out.write(line.strip() + \" \")\n",
    "            else:\n",
    "                #Line has characters that are alphabetical, line is not a stat value\n",
    "                statFlag = False\n",
    "                out.write('\\n')\n",
    "                out.write(line)\n",
    "        else:\n",
    "            #All other lines get directly printed, works well with paragraphs of text\n",
    "            out.write(line)\n",
    "\n",
    "out.close()\n",
    "# sys.stdout.close()\n",
    "# sys.stdout = stdout_fileno"
   ]
  },
  {
   "cell_type": "code",
   "execution_count": 6,
   "id": "853edb1a",
   "metadata": {},
   "outputs": [],
   "source": [
    "\n"
   ]
  },
  {
   "cell_type": "code",
   "execution_count": null,
   "id": "fdf9e2cb",
   "metadata": {},
   "outputs": [],
   "source": [
    "\n"
   ]
  },
  {
   "cell_type": "code",
   "execution_count": null,
   "id": "7776f72f",
   "metadata": {},
   "outputs": [],
   "source": []
  },
  {
   "cell_type": "code",
   "execution_count": null,
   "id": "89304b71",
   "metadata": {},
   "outputs": [],
   "source": []
  }
 ],
 "metadata": {
  "kernelspec": {
   "display_name": "Python 3 (ipykernel)",
   "language": "python",
   "name": "python3"
  },
  "language_info": {
   "codemirror_mode": {
    "name": "ipython",
    "version": 3
   },
   "file_extension": ".py",
   "mimetype": "text/x-python",
   "name": "python",
   "nbconvert_exporter": "python",
   "pygments_lexer": "ipython3",
   "version": "3.9.12"
  }
 },
 "nbformat": 4,
 "nbformat_minor": 5
}
