{
 "cells": [
  {
   "cell_type": "code",
   "execution_count": 3,
   "id": "ca362be5",
   "metadata": {},
   "outputs": [],
   "source": [
    "import fitz\n",
    "import sys\n",
    "\n",
    "doc = fitz.open(\"raw.pdf\")"
   ]
  },
  {
   "cell_type": "code",
   "execution_count": 4,
   "id": "d234e164",
   "metadata": {},
   "outputs": [],
   "source": [
    "def cleanColumns(doc):\n",
    "    with open(doc, encoding='utf-8') as unformattedFile:\n",
    "        leftColumn = []\n",
    "        rightColumn = []\n",
    "        for line in unformattedFile:\n",
    "            columns = line.split('            ', 1) #trying to split off of the column gaps in the text file\n",
    "            leftColumn.append(columns[0].strip())\n",
    "            rightColumn.append(columns[1].strip())"
   ]
  },
  {
   "cell_type": "code",
   "execution_count": 14,
   "id": "bda0b311",
   "metadata": {},
   "outputs": [],
   "source": [
    "out = open('goodRaw.txt', 'w', encoding='utf-8')\n",
    "for page in doc:\n",
    "    text = page.get_text(\"text\", sort=False)\n",
    "    out.write(text)\n",
    "\n",
    "out.close()\n",
    "#print(text)"
   ]
  },
  {
   "cell_type": "code",
   "execution_count": null,
   "id": "1d2873ef",
   "metadata": {},
   "outputs": [],
   "source": []
  }
 ],
 "metadata": {
  "kernelspec": {
   "display_name": "Python 3 (ipykernel)",
   "language": "python",
   "name": "python3"
  },
  "language_info": {
   "codemirror_mode": {
    "name": "ipython",
    "version": 3
   },
   "file_extension": ".py",
   "mimetype": "text/x-python",
   "name": "python",
   "nbconvert_exporter": "python",
   "pygments_lexer": "ipython3",
   "version": "3.9.12"
  }
 },
 "nbformat": 4,
 "nbformat_minor": 5
}
